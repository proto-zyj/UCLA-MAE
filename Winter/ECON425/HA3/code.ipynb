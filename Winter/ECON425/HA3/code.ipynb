{
 "cells": [
  {
   "cell_type": "code",
   "execution_count": 1,
   "metadata": {},
   "outputs": [],
   "source": [
    "import numpy as np\n",
    "import matplotlib.pyplot as plt\n",
    "import math\n",
    "import random\n",
    "from sklearn.linear_model import LogisticRegression\n",
    "from pylab import scatter, show, legend, xlabel, ylabel"
   ]
  },
  {
   "cell_type": "code",
   "execution_count": 2,
   "metadata": {},
   "outputs": [],
   "source": [
    "# this script is used to generate a set of random data points for classification problems. \n",
    "\n",
    "\n",
    "def getDataSet():\n",
    "    \"\"\"\n",
    "    Returns X (250 X 2) and Y (250 X 1)\n",
    "    \"\"\"\n",
    "    # Step 1: Generate data by a module\n",
    "    n = 100  # 1st class contains N objects\n",
    "    alpha = 1.5  # 2st class contains alpha*N ones\n",
    "    sig2 = 1  # assume 2nd class has the same variance as the 1st\n",
    "    dist2 = 4\n",
    "\n",
    "    # later we move this piece of code in a separate file\n",
    "    # [X, y] = loadModelData(N, alpha, sig2, dist2);\n",
    "    n2 = math.floor(alpha * n)  # calculate the size of the 2nd class\n",
    "    cls1X = np.random.randn(n, 2)  # generate random objects of the 1st class\n",
    "\n",
    "    # generate a random distance from the center of the 1st class to the center of the 2nd\n",
    "    # https://stackoverflow.com/questions/1721802/what-is-the-equivalent-of-matlabs-repmat-in-numpy\n",
    "    a = np.array([[math.sin(math.pi * random.random()), math.cos(math.pi * random.random())]])\n",
    "    a1 = a * dist2\n",
    "    shiftClass2 = np.kron(np.ones((n2, 1)), a1)\n",
    "\n",
    "    # generate random objects of the 2nd class\n",
    "    cls2X = sig2 * np.random.randn(n2, 2) + shiftClass2\n",
    "    # combine the objects\n",
    "    X = np.concatenate((cls1X, cls2X), axis=0)\n",
    "\n",
    "    # assign class labels: 0s and 1s\n",
    "    y = np.concatenate((np.zeros((cls1X.shape[0], 1)), np.ones((cls2X.shape[0], 1))), axis=0)\n",
    "    # end % of module.\n",
    "    return X, y\n"
   ]
  },
  {
   "cell_type": "code",
   "execution_count": 64,
   "metadata": {
    "scrolled": false
   },
   "outputs": [
    {
     "data": {
      "image/png": "[encoded data removed]",
      "text/plain": [
       "<Figure size 432x288 with 3 Axes>"
      ]
     },
     "metadata": {
      "needs_background": "light"
     },
     "output_type": "display_data"
    }
   ],
   "source": [
    "# step 1: generate dataset that includes both positive and negative samples,\n",
    "# where each sample is described with two features.\n",
    "# 250 samples in total.\n",
    "\n",
    "[X, y] = getDataSet()  # note that y contains only 1s and 0s,\n",
    "\n",
    "# create figure for all charts to be placed on so can be viewed together\n",
    "fig = plt.figure()\n",
    "\n",
    "\n",
    "def func_DisplayData(dataSamplesX, dataSamplesY, chartNum, titleMessage):\n",
    "    idx1 = (dataSamplesY == 0).nonzero()  # object indices for the 1st class\n",
    "    idx2 = (dataSamplesY == 1).nonzero()\n",
    "    ax = fig.add_subplot(1, 3, chartNum)\n",
    "    # no more variables are needed\n",
    "    plt.plot(dataSamplesX[idx1, 0], dataSamplesX[idx1, 1], 'r*')\n",
    "    plt.plot(dataSamplesX[idx2, 0], dataSamplesX[idx2, 1], 'b*')\n",
    "    # axis tight\n",
    "    ax.set_xlabel('x_1')\n",
    "    ax.set_ylabel('x_2')\n",
    "    ax.set_title(titleMessage)\n",
    "\n",
    "\n",
    "# plotting all samples\n",
    "func_DisplayData(X, y, 1, 'All samples')\n",
    "# number of training samples\n",
    "nTrain = 120\n",
    "\n",
    "######################PLACEHOLDER 1#start#########################\n",
    "# write you own code to randomly pick up nTrain number of samples for training and use the rest for testing.\n",
    "# WARNIN: \n",
    "\n",
    "maxIndex = len(X)\n",
    "randomTrainingSamples = np.random.choice(maxIndex, nTrain, replace=False)\n",
    "testRandomSamples = list(set(range(250)) - set(randomTrainingSamples))\n",
    "trainX = X[randomTrainingSamples,]   #  training samples\n",
    "trainY = y[randomTrainingSamples,] # labels of training samples    nTrain X 1\n",
    " \n",
    "testX =  X[testRandomSamples,] # testing samples               \n",
    "testY =  y[testRandomSamples,] # labels of testing samples     nTest X 1\n",
    "\n",
    "####################PLACEHOLDER 1#end#########################\n",
    "\n",
    "# plot the samples you have pickup for training, check to confirm that both negative\n",
    "# and positive samples are included.\n",
    "func_DisplayData(trainX, trainY, 2, 'training samples')\n",
    "func_DisplayData(testX, testY, 3, 'testing samples')\n",
    "\n",
    "# show all charts\n",
    "plt.savefig(\"figure.jpg\")\n",
    "plt.show()\n"
   ]
  },
  {
   "cell_type": "code",
   "execution_count": 4,
   "metadata": {
    "scrolled": true
   },
   "outputs": [
    {
     "name": "stderr",
     "output_type": "stream",
     "text": [
      "D:\\Anaconda3\\lib\\site-packages\\sklearn\\utils\\validation.py:760: DataConversionWarning: A column-vector y was passed when a 1d array was expected. Please change the shape of y to (n_samples, ), for example using ravel().\n",
      "  y = column_or_1d(y, warn=True)\n"
     ]
    },
    {
     "data": {
      "text/plain": [
       "LogisticRegression(C=1.0, class_weight=None, dual=False, fit_intercept=True,\n",
       "                   intercept_scaling=1, l1_ratio=None, max_iter=100,\n",
       "                   multi_class='auto', n_jobs=None, penalty='l2',\n",
       "                   random_state=None, solver='lbfgs', tol=0.0001, verbose=0,\n",
       "                   warm_start=False)"
      ]
     },
     "execution_count": 4,
     "metadata": {},
     "output_type": "execute_result"
    }
   ],
   "source": [
    "#  step 2: train logistic regression models\n",
    "\n",
    "\n",
    "######################PLACEHOLDER2 #start#########################\n",
    "# in this placefolder you will need to train a logistic model using the training data: trainX, and trainY.\n",
    "# please delete these coding lines and use the sample codes provided in the folder \"codeLogit\"\n",
    "#############################sklearn api##########################\n",
    "# use sklearn class\n",
    "clf = LogisticRegression()\n",
    "# call the function fit() to train the class instance\n",
    "clf.fit(trainX,trainY)"
   ]
  },
  {
   "cell_type": "code",
   "execution_count": 5,
   "metadata": {},
   "outputs": [],
   "source": [
    "#############################self-developed#########################\n",
    "# util.py\n",
    "##implementation of sigmoid function\n",
    "def Sigmoid(x):\n",
    "\tg = float(1.0 / float((1.0 + math.exp(-1.0*x))))\n",
    "\treturn g\n",
    "\n",
    "##Prediction function\n",
    "def Prediction(theta, x):\n",
    "\tz = 0\n",
    "\tfor i in range(len(theta)):\n",
    "\t\tz += x[i]*theta[i]\n",
    "\treturn Sigmoid(z)\n",
    "\n",
    "\n",
    "# implementation of cost functions\n",
    "def Cost_Function(X,Y,theta,m):\n",
    "\tsumOfErrors = 0\n",
    "\tfor i in range(m):\n",
    "\t\txi = X[i]\n",
    "\t\test_yi = Prediction(theta,xi)\n",
    "\t\tif Y[i] == 1:\n",
    "\t\t\terror = Y[i] * math.log(est_yi)\n",
    "\t\telif Y[i] == 0:\n",
    "\t\t\terror = (1-Y[i]) * math.log(1-est_yi)\n",
    "\t\tsumOfErrors += error\n",
    "\tconst = -1/m\n",
    "\tJ = const * sumOfErrors\n",
    "\t#print 'cost is ', J \n",
    "\treturn J\n",
    "\n",
    " \n",
    "# gradient components called by Gradient_Descent()\n",
    "\n",
    "def Cost_Function_Derivative(X,Y,theta,j,m,alpha):\n",
    "\tsumErrors = 0\n",
    "\tfor i in range(m):\n",
    "\t\txi = X[i]\n",
    "\t\txij = xi[j]\n",
    "\t\thi = Prediction(theta,X[i])\n",
    "\t\terror = (hi - Y[i])*xij\n",
    "\t\tsumErrors += error\n",
    "\tm = len(Y)\n",
    "\tconstant = float(alpha)/float(m)\n",
    "\tJ = constant * sumErrors\n",
    "\treturn J\n",
    "\n",
    "# execute gradient updates over thetas\n",
    "def Gradient_Descent(X,Y,theta,m,alpha):\n",
    "\tnew_theta = []\n",
    "\tconstant = alpha/m\n",
    "\tfor j in range(len(theta)):\n",
    "\t\tdeltaF = Cost_Function_Derivative(X,Y,theta,j,m,alpha)\n",
    "\t\tnew_theta_value = theta[j] - deltaF\n",
    "\t\tnew_theta.append(new_theta_value)\n",
    "\treturn new_theta\n",
    "\n"
   ]
  },
  {
   "cell_type": "code",
   "execution_count": 6,
   "metadata": {},
   "outputs": [
    {
     "name": "stdout",
     "output_type": "stream",
     "text": [
      "theta  [array([0.12227244]), array([0.0908968])]\n",
      "cost is  [0.50725172]\n",
      "theta  [array([0.87823914]), array([0.16037821])]\n",
      "cost is  [0.31036896]\n",
      "theta  [array([0.93316495]), array([0.11439487])]\n",
      "cost is  [0.31005111]\n",
      "theta  [array([0.94298799]), array([0.10644864])]\n",
      "cost is  [0.3100413]\n",
      "theta  [array([0.94475761]), array([0.1050261])]\n",
      "cost is  [0.31004098]\n",
      "score self developed:  0.7916666666666666\n",
      "score Scikit learn:  1.0\n"
     ]
    }
   ],
   "source": [
    "theta = [0,0] #initial model parameters\n",
    "alpha = 0.1 # learning rates\n",
    "max_iteration = 1000 # maximal iterations\n",
    "\n",
    "\n",
    "m = len(trainY) # number of samples\n",
    "\n",
    "for x in range(max_iteration):\n",
    "\t# call the functions for gradient descent method\n",
    "\tnew_theta = Gradient_Descent(trainX,trainY,theta,m,alpha)\n",
    "\ttheta = new_theta\n",
    "\tif x % 200 == 0:\n",
    "\t\t# calculate the cost function with the present theta\n",
    "\t\tCost_Function(trainX,trainY,theta,m)\n",
    "\t\tprint ('theta ', theta)\t\n",
    "\t\tprint ('cost is ', Cost_Function(trainX,trainY,theta,m))\n",
    "\n",
    "score = 0\n",
    "for i in range(m):\n",
    "    prediction = round(Prediction(trainX[i],theta))\n",
    "    answer = trainY[i]\n",
    "    if prediction == answer:\n",
    "        score += 1\n",
    "\n",
    "    \n",
    "my_score = float(score) / float(m)\n",
    "print ('score self developed: ', my_score)\n",
    "print('score Scikit learn: ', clf.score(trainX,trainY))\n",
    "######################PLACEHOLDER2 #end #########################"
   ]
  },
  {
   "cell_type": "code",
   "execution_count": 11,
   "metadata": {
    "scrolled": false
   },
   "outputs": [
    {
     "name": "stdout",
     "output_type": "stream",
     "text": [
      "[0. 1. 1. 0. 1. 1. 0. 1. 0. 1. 1. 1. 1. 1. 1. 0. 1. 0. 0. 1. 1. 0. 1. 0.\n",
      " 1. 0. 0. 1. 1. 1. 1. 0. 0. 0. 1. 0. 1. 0. 1. 1. 0. 1. 0. 1. 1. 1. 1. 0.\n",
      " 1. 0. 1. 0. 1. 0. 0. 1. 1. 1. 0. 1. 0. 0. 0. 1. 1. 1. 1. 0. 1. 1. 1. 0.\n",
      " 1. 1. 0. 1. 1. 1. 1. 1. 1. 1. 0. 0. 0. 1. 1. 1. 1. 1. 1. 0. 0. 1. 0. 1.\n",
      " 1. 0. 0. 0. 0. 0. 1. 1. 1. 0. 0. 1. 0. 0. 0. 1. 1. 0. 1. 1. 1. 1. 1. 0.]\n",
      "[0. 1. 1. 1. 1. 1. 1. 1. 0. 1. 1. 1. 1. 1. 1. 1. 1. 1. 1. 1. 1. 1. 1. 0.\n",
      " 1. 0. 0. 1. 1. 1. 1. 1. 1. 0. 1. 1. 1. 0. 1. 1. 0. 1. 1. 1. 1. 1. 1. 1.\n",
      " 1. 1. 1. 1. 1. 0. 0. 1. 1. 1. 1. 1. 1. 1. 1. 1. 1. 1. 1. 0. 1. 1. 1. 0.\n",
      " 1. 1. 1. 1. 1. 1. 1. 1. 1. 1. 1. 1. 0. 1. 1. 1. 1. 1. 1. 1. 0. 1. 0. 1.\n",
      " 1. 1. 0. 0. 1. 0. 1. 1. 1. 0. 0. 1. 0. 0. 0. 1. 1. 1. 1. 1. 1. 1. 1. 0.]\n"
     ]
    },
    {
     "data": {
      "text/plain": [
       "120"
      ]
     },
     "execution_count": 11,
     "metadata": {},
     "output_type": "execute_result"
    }
   ],
   "source": [
    "######################PLACEHOLDER3 #start#########################\n",
    "###########sklean api########\n",
    "testY_sklearn = clf.predict(testX)\n",
    "print(testY_sklearn)\n",
    "testY_selfdevelop = np.zeros(len(testY))\n",
    "for i in range(len(testY)):\n",
    "    testY_selfdevelop[i] = round(Prediction(testX[i],theta))\n",
    "print(testY_selfdevelop)\n",
    "#PLACEHOLDER#end\n",
    "len(testY_sklearn)"
   ]
  },
  {
   "cell_type": "code",
   "execution_count": 8,
   "metadata": {
    "scrolled": true
   },
   "outputs": [
    {
     "name": "stdout",
     "output_type": "stream",
     "text": [
      "average error of sklearn model: 0.48 (0.49959983987187184\n",
      "average error of self developed model: 0.44 (0.49638694583963433)\n"
     ]
    }
   ],
   "source": [
    "# step 4: evaluation\n",
    "# compare predictions yHat and and true labels testy to calculate average error and standard deviation\n",
    "testYDiff_skearn = np.abs(testY_sklearn - testY)\n",
    "testYDiff_selfdevelop = np.abs(testY_selfdevelop - testY)\n",
    "avgErr_sklearn = np.mean(testYDiff_skearn)\n",
    "stdErr_sklearn = np.std(testYDiff_skearn)\n",
    "avgErr_selfdevelop = np.mean(testYDiff_selfdevelop)\n",
    "stdErr_selfdevelop = np.std(testYDiff_selfdevelop)\n",
    "\n",
    "print(f'average error of sklearn model: {avgErr_sklearn} ({stdErr_sklearn}')\n",
    "print(f'average error of self developed model: {avgErr_selfdevelop} ({stdErr_selfdevelop})')\n"
   ]
  },
  {
   "cell_type": "code",
   "execution_count": 9,
   "metadata": {},
   "outputs": [],
   "source": [
    "def func_calConfusionMatrix(predY, trueY):\n",
    "    class_num = len(np.unique(predY))\n",
    "    c_mat = np.zeros(class_num**2).reshape((class_num,class_num))\n",
    "    for i in range(class_num):\n",
    "        for j in range(class_num):\n",
    "            c_mat[i,j] = np.sum((trueY.T == i)&( predY == j ).astype(int))\n",
    "    accuracy = np.sum(c_mat.diagonal()) / len(predY)\n",
    "    precision,recall = np.zeros(class_num),np.zeros(class_num)\n",
    "    for m in range(class_num):\n",
    "        precision[m] = float(c_mat.diagonal()[m] / np.sum(c_mat[:,m]))\n",
    "        recall[m] = float(c_mat.diagonal()[m] / np.sum(c_mat[m,]))\n",
    "    return [c_mat,accuracy,precision,recall]"
   ]
  },
  {
   "cell_type": "code",
   "execution_count": 10,
   "metadata": {},
   "outputs": [
    {
     "name": "stdout",
     "output_type": "stream",
     "text": [
      "for sklearn model accuracy is 1.0, precision for 0 and 1 is [1. 1.], recall for 0 and 1  is [1. 1.]\n",
      "for self-developed model accuracy is 0.8, precision for 0 and 1 is [1.   0.75], recall for 0 and 1 is [0.5 1. ]\n"
     ]
    }
   ],
   "source": [
    "c_mat_sklearn = func_calConfusionMatrix(predY = testY_sklearn, trueY = testY)\n",
    "c_mat_selfdevelop = func_calConfusionMatrix(predY = testY_selfdevelop, trueY = testY)\n",
    "print(f'for sklearn model accuracy is {c_mat_sklearn[1]}, precision for 0 and 1 is {c_mat_sklearn[2]}, recall for 0 and 1  is {c_mat_sklearn[3]}')\n",
    "print(f'for self-developed model accuracy is {c_mat_selfdevelop[1]}, precision for 0 and 1 is {c_mat_selfdevelop[2]}, recall for 0 and 1 is {c_mat_selfdevelop[3]}')"
   ]
  },
  {
   "cell_type": "code",
   "execution_count": 227,
   "metadata": {},
   "outputs": [
    {
     "name": "stdout",
     "output_type": "stream",
     "text": [
      "for sklearn model, confusion matrix is [[49.  0.]\n",
      " [ 1. 70.]]\n",
      "for self-developed model, confusion matrix is [[23. 26.]\n",
      " [ 0. 71.]]\n"
     ]
    }
   ],
   "source": [
    "print(f'for sklearn model, confusion matrix is {c_mat_sklearn[0]}')\n",
    "print(f'for self-developed model, confusion matrix is {c_mat_selfdevelop[0]}')\n"
   ]
  }
 ],
 "metadata": {
  "kernelspec": {
   "display_name": "Python 3",
   "language": "python",
   "name": "python3"
  },
  "language_info": {
   "codemirror_mode": {
    "name": "ipython",
    "version": 3
   },
   "file_extension": ".py",
   "mimetype": "text/x-python",
   "name": "python",
   "nbconvert_exporter": "python",
   "pygments_lexer": "ipython3",
   "version": "3.7.5"
  },
  "latex_envs": {
   "LaTeX_envs_menu_present": true,
   "autoclose": false,
   "autocomplete": true,
   "bibliofile": "biblio.bib",
   "cite_by": "apalike",
   "current_citInitial": 1,
   "eqLabelWithNumbers": true,
   "eqNumInitial": 1,
   "hotkeys": {
    "equation": "Ctrl-E",
    "itemize": "Ctrl-I"
   },
   "labels_anchors": false,
   "latex_user_defs": false,
   "report_style_numbering": false,
   "user_envs_cfg": false
  },
  "toc": {
   "base_numbering": 1,
   "nav_menu": {},
   "number_sections": true,
   "sideBar": true,
   "skip_h1_title": false,
   "title_cell": "Table of Contents",
   "title_sidebar": "Contents",
   "toc_cell": false,
   "toc_position": {},
   "toc_section_display": true,
   "toc_window_display": false
  }
 },
 "nbformat": 4,
 "nbformat_minor": 4
}
